{
 "cells": [
  {
   "cell_type": "markdown",
   "metadata": {},
   "source": [
    "# Collision Severity Prediction with Machine Learning Algorithmes - Ramin Ferdos"
   ]
  },
  {
   "cell_type": "markdown",
   "metadata": {},
   "source": [
    "## Introduction\n",
    "\n",
    "In this notebook, we are going to analyze histoical data which about accidents and its severities, then with using machine learning algorithmes predicting the severity of newly entered collisions. We are approaching this problem with CRISP-DM Methodologies and further you can find related steps with sections.\n",
    "\n",
    "---"
   ]
  },
  {
   "cell_type": "markdown",
   "metadata": {},
   "source": [
    "## First Step - Business Understanding\n",
    "\n",
    "There are plenty of severity related to coliisons, for example, in a collision severities may be fatality, serious injury, injury, prop damage and etc. but we are reducing this types to two situation: 1. Property only damage collisions and 2. Injury collision.\n",
    "With appropriate data we can extract valuable knowledge from this prediction we are going to just name a few, for instance, we can understand the probability of injuries in types of collisions for example, rear end collisions result injuries or sidesweeps? also we can mark dangerous spots which the occurance of injury collisions in them are siginifcant, another insight which we can extract is the occurance of collisions especially injury ones in which weathers are more.\n",
    "so, our problem is predicting severity type of collions based on some features. we will talk about features further.\n",
    "\n",
    "---"
   ]
  },
  {
   "cell_type": "markdown",
   "metadata": {},
   "source": [
    "## Second Step - Analytical Approach\n",
    "\n",
    "Based on the definition of problem, we are going to classify collisions, to two categories. obviously, we need to use classification algorithmes for this problem, there are multiple classifications algorithmes:\n",
    "- K Nearest Neighbor\n",
    "- Decision Tree\n",
    "- Logistic Regression\n",
    "- Support Vector Machine\n",
    "- and etc.\n",
    "\n",
    "It seems like Logistic Regression is a good approach for this problem since our dependent variable (Y) can be just two states (severity of collison type) and also this algorithmes will give us the probablity of each state (i.e for a specific sitations we are predicting that this collison severity will be 89% property damage and 11% injury.)"
   ]
  },
  {
   "cell_type": "code",
   "execution_count": 2,
   "metadata": {},
   "outputs": [],
   "source": [
    "import pandas as pd\n",
    "import numpy as np\n",
    "import matplotlib.pyplot as plt\n",
    "import seaborn as sns"
   ]
  },
  {
   "cell_type": "code",
   "execution_count": 3,
   "metadata": {},
   "outputs": [
    {
     "name": "stdout",
     "output_type": "stream",
     "text": [
      "Hello Capstone Project Course!\n"
     ]
    }
   ],
   "source": [
    "print('Hello Capstone Project Course!')"
   ]
  },
  {
   "cell_type": "code",
   "execution_count": null,
   "metadata": {},
   "outputs": [],
   "source": []
  }
 ],
 "metadata": {
  "kernelspec": {
   "display_name": "Python 3",
   "language": "python",
   "name": "python3"
  },
  "language_info": {
   "codemirror_mode": {
    "name": "ipython",
    "version": 3
   },
   "file_extension": ".py",
   "mimetype": "text/x-python",
   "name": "python",
   "nbconvert_exporter": "python",
   "pygments_lexer": "ipython3",
   "version": "3.7.6"
  }
 },
 "nbformat": 4,
 "nbformat_minor": 4
}
